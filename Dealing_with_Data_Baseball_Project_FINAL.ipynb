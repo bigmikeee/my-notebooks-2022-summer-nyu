{
  "nbformat": 4,
  "nbformat_minor": 0,
  "metadata": {
    "colab": {
      "name": "Dealing_with_Data_Baseball_Project_FINAL.ipynb",
      "provenance": [],
      "collapsed_sections": [],
      "include_colab_link": true
    },
    "kernelspec": {
      "name": "python3",
      "display_name": "Python 3"
    },
    "language_info": {
      "name": "python"
    }
  },
  "cells": [
    {
      "cell_type": "markdown",
      "metadata": {
        "id": "view-in-github",
        "colab_type": "text"
      },
      "source": [
        "<a href=\"https://colab.research.google.com/github/bigmikeee/my-notebooks-2022-summer-nyu/blob/main/Dealing_with_Data_Baseball_Project_FINAL.ipynb\" target=\"_parent\"><img src=\"https://colab.research.google.com/assets/colab-badge.svg\" alt=\"Open In Colab\"/></a>"
      ]
    },
    {
      "cell_type": "markdown",
      "source": [
        "##Data Cleaning"
      ],
      "metadata": {
        "id": "3LF7Dvl3zmfw"
      }
    },
    {
      "cell_type": "code",
      "source": [
        "import pandas as pd\n",
        "#data from April 1, 2021 - October 3, 2021\n",
        "df1= pd.read_csv(\"savant_data.csv\")\n",
        "df2= pd.read_csv(\"savant_data (1).csv\")\n",
        "df3= pd.read_csv(\"savant_data (2).csv\")\n",
        "df4= pd.read_csv(\"savant_data (3).csv\")\n",
        "df5= pd.read_csv(\"savant_data (4).csv\")\n",
        "df6= pd.read_csv(\"savant_data (5).csv\")\n",
        "df7= pd.read_csv(\"savant_data (6).csv\")\n",
        "df8= pd.read_csv(\"savant_data (7).csv\")\n",
        "df9= pd.read_csv(\"savant_data (8).csv\")\n",
        "df10= pd.read_csv(\"savant_data (9).csv\")\n",
        "df11= pd.read_csv(\"savant_data (10).csv\")\n",
        "df12= pd.read_csv(\"savant_data (11).csv\")\n",
        "df13= pd.read_csv(\"savant_data (12).csv\")\n",
        "df14= pd.read_csv(\"savant_data (13).csv\")\n",
        "df15= pd.read_csv(\"savant_data (14).csv\")\n",
        "df16= pd.read_csv(\"savant_data (15).csv\")\n",
        "df17= pd.read_csv(\"savant_data (16).csv\")\n",
        "df18= pd.read_csv(\"savant_data (17).csv\")\n",
        "df19= pd.read_csv(\"savant_data (18).csv\")\n",
        "df20= pd.read_csv(\"savant_data (19).csv\")\n",
        "df21= pd.read_csv(\"savant_data (20).csv\")\n",
        "df22= pd.read_csv(\"savant_data (21).csv\")\n",
        "df23= pd.read_csv(\"savant_data (22).csv\")\n",
        "df24= pd.read_csv(\"savant_data (23).csv\")\n",
        "df25= pd.read_csv(\"savant_data (24).csv\")\n",
        "df26= pd.read_csv(\"savant_data (25).csv\")\n",
        "#concatenate all of the mini df's into one big df\n",
        "mydata = df1.append([df2,df3,df4,df5,df6,df7,df8,df9,df10,df11,df12,df13,df14,df15,df16,df17,df18,df19,df20,df21,df22,df23,df24,df25,df26], ignore_index=True)"
      ],
      "metadata": {
        "id": "PQ8U35Qaox8f"
      },
      "execution_count": null,
      "outputs": []
    },
    {
      "cell_type": "code",
      "source": [
        "#block of code to convert pitch types into just \"fastballs\" or \"offspeed\"\n",
        "pitch_type_series = mydata[\"pitch_type\"]\n",
        "pitch_type_list = pitch_type_series.tolist()\n",
        "for i in range(len(pitch_type_list)):\n",
        "  if pitch_type_list[i] == \"FF\" or pitch_type_list[i]==\"SI\" or pitch_type_list==\"FT\":\n",
        "    pitch_type_list[i] = \"fastball\"\n",
        "  else: pitch_type_list[i] = \"offspeed\"\n",
        "\n",
        "#update the dataframe with this new pitch_type_list\n",
        "mydata[\"type_of_pitch\"] = pitch_type_list"
      ],
      "metadata": {
        "id": "BU7OqFYW2Krz"
      },
      "execution_count": null,
      "outputs": []
    },
    {
      "cell_type": "code",
      "source": [
        "#block of code to convert player names from \"Judge, Aaron\" to \"Aaron Judge\"\n",
        "mydata[\"firstname\"] = mydata.player_name.str.extract(r'\\b(\\w+)$',expand = True)  #using \"regular expressions\"\n",
        "mydata[\"lastname\"] = mydata.player_name.str.extract(r'\\b(\\w+)*', expand=True)   #using \"regular expressions\"\n",
        "mydata[\"playername\"] = mydata[\"firstname\"] + \" \" + mydata[\"lastname\"]"
      ],
      "metadata": {
        "id": "v0NT92rHlGA9"
      },
      "execution_count": null,
      "outputs": []
    },
    {
      "cell_type": "code",
      "source": [
        "#If the \"event\" is something weird like a force_out,grounded_into_double_play, field_error, double_play, fielders_choice,\n",
        "#(cont'd) fielders_choice_out, sac_fly_double_play,triple_play,catcher_interference, sac_bunt_double_play \n",
        "#(cont'd) then change the \"event\" to \"field out\"\n",
        "mydata.loc[mydata[\"events\"] == \"force_out\", \"events\"] = \"field_out\"\n",
        "mydata.loc[mydata[\"events\"] == \"grounded_into_double_play\", \"events\"] = \"field_out\"\n",
        "mydata.loc[mydata[\"events\"] == \"field_error\", \"events\"] = \"field_out\"\n",
        "mydata.loc[mydata[\"events\"] == \"double_play\", \"events\"] = \"field_out\"\n",
        "mydata.loc[mydata[\"events\"] == \"fielders_choice\", \"events\"] = \"field_out\"\n",
        "mydata.loc[mydata[\"events\"] == \"fielders_choice_out\", \"events\"] = \"field_out\"\n",
        "mydata.loc[mydata[\"events\"] == \"sac_fly_double_play\", \"events\"] = \"field_out\"\n",
        "mydata.loc[mydata[\"events\"] == \"triple_play\", \"events\"] = \"field_out\"\n",
        "mydata.loc[mydata[\"events\"] == \"catcher_interf\", \"events\"] = \"field_out\"\n",
        "mydata.loc[mydata[\"events\"] == \"sac_bunt_double_play\", \"events\"] = \"field_out\"\n",
        "mydata.loc[mydata[\"events\"] == \"sac_fly\", \"events\"] = \"field_out\"\n",
        "mydata.loc[mydata[\"events\"] == \"sac_bunt\", \"events\"] = \"field_out\""
      ],
      "metadata": {
        "id": "yVd2PqVRQ8Q7"
      },
      "execution_count": null,
      "outputs": []
    },
    {
      "cell_type": "code",
      "source": [
        "mydata.loc[mydata[\"zone\"] == 1.0, \"zone\"] = \"high and left\"\n",
        "mydata.loc[mydata[\"zone\"] == 2.0, \"zone\"] = \"high and middle\"\n",
        "mydata.loc[mydata[\"zone\"] == 3.0, \"zone\"] = \"high and right\"\n",
        "mydata.loc[mydata[\"zone\"] == 4.0, \"zone\"] = \"middle and left\"\n",
        "mydata.loc[mydata[\"zone\"] == 5.0, \"zone\"] = \"down the middle\"\n",
        "mydata.loc[mydata[\"zone\"] == 6.0, \"zone\"] = \"middle and right\"\n",
        "mydata.loc[mydata[\"zone\"] == 7.0, \"zone\"] = \"low and left\"\n",
        "mydata.loc[mydata[\"zone\"] == 8.0, \"zone\"] = \"low and middle\"\n",
        "mydata.loc[mydata[\"zone\"] == 9.0, \"zone\"] = \"low and right\"\n",
        "mydata.loc[mydata[\"zone\"] == 11.0, \"zone\"] = \"high and left (ball)\"\n",
        "mydata.loc[mydata[\"zone\"] == 12.0, \"zone\"] = \"high and right (ball)\"\n",
        "mydata.loc[mydata[\"zone\"] == 13.0, \"zone\"] = \"low and left (ball)\"\n",
        "mydata.loc[mydata[\"zone\"] == 14.0, \"zone\"] = \"low and right (ball)\""
      ],
      "metadata": {
        "id": "h-Vv0fL1z1sv"
      },
      "execution_count": null,
      "outputs": []
    },
    {
      "cell_type": "code",
      "source": [
        "#narrow down our dataframe into the columns that we're maybe gonna use\n",
        "columns_used = [\"type_of_pitch\", \"playername\",\"events\",\"description\",\"zone\",\"stand\",\"p_throws\",\"bat_score\",\"fld_score\"]\n",
        "ourdata = mydata[columns_used]\n",
        "#ourdata.head(3)  #view the first 3 rows"
      ],
      "metadata": {
        "id": "O5g8XQlr7kFd"
      },
      "execution_count": null,
      "outputs": []
    },
    {
      "cell_type": "code",
      "source": [
        "#narrow down our dataframe to one where it's only balls hit into play (across all of MLB, all of 2021)\n",
        "balls_in_play = ourdata[\"description\"] == \"hit_into_play\"\n",
        "our_df = ourdata[balls_in_play]\n",
        "#our_df.head(3) #view the first 3 rows"
      ],
      "metadata": {
        "id": "WIzAYD_NU3LK"
      },
      "execution_count": null,
      "outputs": []
    },
    {
      "cell_type": "code",
      "source": [
        "#dataframe where its only fastballs hit into play (across all of MLB, all of 2021)\n",
        "fastballs = our_df[\"type_of_pitch\"] == \"fastball\"\n",
        "MLB_fastball_df = our_df[fastballs]\n",
        "#MLB_fastball_df.head(3)  #view the first 3 rows"
      ],
      "metadata": {
        "id": "sShu_l87VOkT"
      },
      "execution_count": null,
      "outputs": []
    },
    {
      "cell_type": "code",
      "source": [
        "#dataframe where its only offspeed hit into play (across all of MLB, all of 2021) \n",
        "offspeed = our_df[\"type_of_pitch\"] == \"offspeed\"\n",
        "MLB_offspeed_df = our_df[offspeed]\n",
        "#MLB_offspeed_df.head(3) #view the first 3 rows"
      ],
      "metadata": {
        "id": "ZiYirAx-XGtG"
      },
      "execution_count": null,
      "outputs": []
    },
    {
      "cell_type": "markdown",
      "source": [
        "##Calculate League-Wide Statistics"
      ],
      "metadata": {
        "id": "jU3Bf4e2bm40"
      }
    },
    {
      "cell_type": "code",
      "source": [
        "league_fieldout_fb = (MLB_fastball_df[\"events\"].values=='field_out').sum()\n",
        "league_single_fb = (MLB_fastball_df[\"events\"].values=='single').sum()\n",
        "league_double_fb = (MLB_fastball_df[\"events\"].values=='double').sum()\n",
        "league_triple_fb = (MLB_fastball_df[\"events\"].values=='triple').sum()\n",
        "league_homerun_fb = (MLB_fastball_df[\"events\"].values=='home_run').sum()\n",
        "league_all_fb = (MLB_fastball_df[\"events\"].values!='').sum()"
      ],
      "metadata": {
        "id": "aN4dHxacVDvW"
      },
      "execution_count": null,
      "outputs": []
    },
    {
      "cell_type": "code",
      "source": [
        "league_fieldout_percentage_fb = league_fieldout_fb / league_all_fb\n",
        "league_single_percentage_fb = league_single_fb / league_all_fb\n",
        "league_double_percentage_fb = league_double_fb / league_all_fb\n",
        "league_triple_percentage_fb = league_triple_fb / league_all_fb\n",
        "league_homerun_percentage_fb = league_homerun_fb / league_all_fb"
      ],
      "metadata": {
        "id": "ITNG2ejmWTip"
      },
      "execution_count": null,
      "outputs": []
    },
    {
      "cell_type": "code",
      "source": [
        "league_fieldout_offspeed = (MLB_offspeed_df[\"events\"].values=='field_out').sum()\n",
        "league_single_offspeed = (MLB_offspeed_df[\"events\"].values=='single').sum()\n",
        "league_double_offspeed = (MLB_offspeed_df[\"events\"].values=='double').sum()\n",
        "league_triple_offspeed = (MLB_offspeed_df[\"events\"].values=='triple').sum()\n",
        "league_homerun_offspeed = (MLB_offspeed_df[\"events\"].values=='home_run').sum()\n",
        "league_all_offspeed = (MLB_offspeed_df[\"events\"].values!='').sum()"
      ],
      "metadata": {
        "id": "vNupQMdPkVkg"
      },
      "execution_count": null,
      "outputs": []
    },
    {
      "cell_type": "code",
      "source": [
        "league_fieldout_percentage_offspeed = league_fieldout_offspeed / league_all_offspeed\n",
        "league_single_percentage_offspeed = league_single_offspeed / league_all_offspeed\n",
        "league_double_percentage_offspeed = league_double_offspeed / league_all_offspeed\n",
        "league_triple_percentage_offspeed = league_triple_offspeed / league_all_offspeed\n",
        "league_homerun_percentage_offspeed = league_homerun_offspeed / league_all_offspeed"
      ],
      "metadata": {
        "id": "rIRnhSvsks-N"
      },
      "execution_count": null,
      "outputs": []
    },
    {
      "cell_type": "markdown",
      "source": [
        "##Scouting Report"
      ],
      "metadata": {
        "id": "TUMRo5dPzrOO"
      }
    },
    {
      "cell_type": "code",
      "source": [
        "def scouting_report(name, pitcher_handedness):\n",
        "  print(\"This is the scouting report for \" + name, end=\".\\n\\n\")\n",
        "\n",
        "  if pitcher_handedness == \"R\":\n",
        "    throws = \"against right-handed pitchers\"\n",
        "  elif pitcher_handedness == \"L\":\n",
        "    throws = \"against left-handed pitchers\"\n",
        "  \n",
        "  print(\"Here is some relevant information about how \" + name + \" fares \" + throws, end=\".\\n\\n\")\n",
        "  \n",
        "  #First, obtain the player's individual date frame\n",
        "  player = mydata[\"playername\"] == name\n",
        "  player_df = mydata[player]\n",
        "  player_df = player_df[player_df[\"p_throws\"] == pitcher_handedness]\n",
        "\n",
        "  player_bip = player_df[\"description\"] == \"hit_into_play\"  ##bip stands for ball in play\n",
        "  player_bip_df = player_df[player_bip]\n",
        "\n",
        "  player_fastballs = player_bip_df[\"type_of_pitch\"] == \"fastball\"\n",
        "  player_fastballs_df = player_bip_df[player_fastballs]\n",
        "\n",
        "  player_offspeed = player_bip_df[\"type_of_pitch\"] == \"offspeed\"\n",
        "  player_offspeed_df = player_bip_df[player_offspeed]\n",
        "\n",
        "  #Next, calculate the player's individual statistics\n",
        "  player_fieldout_fb = (player_fastballs_df[\"events\"].values=='field_out').sum()\n",
        "  player_single_fb = (player_fastballs_df[\"events\"].values=='single').sum()\n",
        "  player_double_fb = (player_fastballs_df[\"events\"].values=='double').sum()\n",
        "  player_triple_fb = (player_fastballs_df[\"events\"].values=='triple').sum()\n",
        "  player_homerun_fb = (player_fastballs_df[\"events\"].values=='home_run').sum()\n",
        "  player_all_fb = (player_fastballs_df[\"events\"].values!='').sum()\n",
        "\n",
        "  player_fieldout_percentage_fb = player_fieldout_fb / player_all_fb\n",
        "  player_single_percentage_fb = player_single_fb / player_all_fb\n",
        "  player_double_percentage_fb = player_double_fb / player_all_fb\n",
        "  player_triple_percentage_fb = player_triple_fb / player_all_fb\n",
        "  player_homerun_percentage_fb = player_homerun_fb / player_all_fb\n",
        "\n",
        "  player_fieldout_offspeed = (player_offspeed_df[\"events\"].values=='field_out').sum()\n",
        "  player_single_offspeed = (player_offspeed_df[\"events\"].values=='single').sum()\n",
        "  player_double_offspeed = (player_offspeed_df[\"events\"].values=='double').sum()\n",
        "  player_triple_offspeed = (player_offspeed_df[\"events\"].values=='triple').sum()\n",
        "  player_homerun_offspeed = (player_offspeed_df[\"events\"].values=='home_run').sum()\n",
        "  player_all_offspeed = (player_offspeed_df[\"events\"].values!='').sum()\n",
        "\n",
        "  player_fieldout_percentage_offspeed = player_fieldout_offspeed / player_all_offspeed\n",
        "  player_single_percentage_offspeed = player_single_offspeed / player_all_offspeed\n",
        "  player_double_percentage_offspeed = player_double_offspeed / player_all_offspeed\n",
        "  player_triple_percentage_offspeed = player_triple_offspeed / player_all_offspeed\n",
        "  player_homerun_percentage_offspeed = player_homerun_offspeed / player_all_offspeed\n",
        "\n",
        "\n",
        "\n",
        "  #Finally, print out the comparisons between a player's individual statistics and the league-wide statistics\n",
        "  if abs(player_single_percentage_fb - league_single_percentage_fb) > 0.03:\n",
        "    print(name, \"hits fastballs for singles\", throws, format(player_single_percentage_fb,\".0%\"), \"of the time, while the league hits them\", format(league_single_percentage_fb,\".0%\"), \"of the time\")\n",
        "  if abs(player_double_percentage_fb - league_double_percentage_fb) > 0.03:\n",
        "    print(name, \"hits fastballs for doubles\", throws, format(player_double_percentage_fb,\".0%\"), \"of the time, while the league hits them\", format(league_double_percentage_fb,\".0%\"), \"of the time\")\n",
        "  if abs(player_triple_percentage_fb - league_triple_percentage_fb) > 0.03:\n",
        "    print(name, \"hits fastballs for triples\", throws, format(player_triple_percentage_fb,\".0%\"), \"of the time, while the league hits them\", format(league_triple_percentage_fb,\".0%\"), \"of the time\")\n",
        "  if abs(player_homerun_percentage_fb - league_homerun_percentage_fb) > 0.03:\n",
        "    print(name, \"hits fastballs for home runs\", throws, format(player_homerun_percentage_fb,\".0%\"), \"of the time, while the league hits them\", format(league_homerun_percentage_fb,\".0%\"), \"of the time\")\n",
        "  if abs(player_fieldout_percentage_fb - league_fieldout_percentage_fb) > 0.03:\n",
        "    print(name, \"hits fastballs for outs\", throws, format(player_fieldout_percentage_fb,\".0%\"), \"of the time, while the league hits them\", format(league_fieldout_percentage_fb,\".0%\"), \"of the time\")\n",
        "  print(\"\")\n",
        "  if abs(player_single_percentage_offspeed - league_single_percentage_offspeed) > 0.03:\n",
        "    print(name, \"hits offspeed pitches for singles\", throws, format(player_single_percentage_offspeed,\".0%\"), \"of the time, while the league hits them\", format(league_single_percentage_offspeed,\".0%\"), \"of the time\")\n",
        "  if abs(player_double_percentage_offspeed - league_double_percentage_offspeed) > 0.03:\n",
        "    print(name, \"hits offspeed pitches for doubles\", throws, format(player_double_percentage_offspeed,\".0%\"), \"of the time, while the league hits them\", format(league_double_percentage_offspeed,\".0%\"), \"of the time\")\n",
        "  if abs(player_triple_percentage_offspeed - league_triple_percentage_offspeed) > 0.03:\n",
        "    print(name, \"hits offspeed pitches for triples\", throws, format(player_triple_percentage_offspeed,\".0%\"), \"of the time, while the league hits them\", format(league_triple_percentage_offspeed,\".0%\"), \"of the time\")\n",
        "  if abs(player_homerun_percentage_offspeed - league_homerun_percentage_offspeed) > 0.03:\n",
        "    print(name, \"hits offspeed pitches for home runs\", throws, format(player_homerun_percentage_offspeed,\".0%\"), \"of the time, while the league hits them\", format(league_homerun_percentage_offspeed,\".0%\"), \"of the time\")\n",
        "  if abs(player_fieldout_percentage_offspeed - league_fieldout_percentage_offspeed) > 0.03:\n",
        "    print(name, \"hits offspeed pitches for outs\", throws, format(player_fieldout_percentage_offspeed,\".0%\"), \"of the time, while the league hits them\", format(league_fieldout_percentage_offspeed,\".0%\"), \"of the time\")\n",
        "  print(\"\")"
      ],
      "metadata": {
        "id": "gmq_o2iWncT5"
      },
      "execution_count": null,
      "outputs": []
    },
    {
      "cell_type": "markdown",
      "source": [
        "##Pie Charts"
      ],
      "metadata": {
        "id": "y3OF7v1w0YYd"
      }
    },
    {
      "cell_type": "code",
      "source": [
        "def charts_fastball(name, pitcher_handedness):\n",
        "  player = mydata[\"playername\"] == name\n",
        "  player_df = mydata[player]\n",
        "  player_df = player_df[player_df[\"p_throws\"] == pitcher_handedness]\n",
        "\n",
        "  player_bip = player_df[\"description\"] == \"hit_into_play\"  ##bip stands for ball in play\n",
        "  player_bip_df = player_df[player_bip]\n",
        "\n",
        "  player_fastballs = player_bip_df[\"type_of_pitch\"] == \"fastball\"\n",
        "  player_fastballs_df = player_bip_df[player_fastballs]\n",
        "\n",
        "#pie charts:\n",
        "  player_fastballs_events_df = player_fastballs_df[\"events\"].value_counts() #renamed the dataframe\n",
        "  player_fastballs_events_df.plot(x=[[0]], y=[[1]], kind =\"pie\",autopct='%1.1f%%',title=\"Player's Results on Fastballs Hit into Play\")"
      ],
      "metadata": {
        "id": "q-0_uUYllbzQ"
      },
      "execution_count": null,
      "outputs": []
    },
    {
      "cell_type": "code",
      "source": [
        "def charts_offspeed(name, pitcher_handedness):\n",
        "  player = mydata[\"playername\"] == name\n",
        "  player_df = mydata[player]\n",
        "  player_df = player_df[player_df[\"p_throws\"] == pitcher_handedness]\n",
        "\n",
        "  player_bip = player_df[\"description\"] == \"hit_into_play\"  ##bip stands for ball in play\n",
        "  player_bip_df = player_df[player_bip]\n",
        "\n",
        "  player_offspeed = player_bip_df[\"type_of_pitch\"] == \"offspeed\"\n",
        "  player_offspeed_df = player_bip_df[player_offspeed]\n",
        "#pie charts:\n",
        "  player_offspeed_events_df = player_offspeed_df[\"events\"].value_counts()\n",
        "  player_offspeed_events_df.plot(x=[[0]], y=[[1]], kind =\"pie\",autopct='%1.1f%%', title=\"Player's Results on Offspeed Pitches Hit into Play\")"
      ],
      "metadata": {
        "id": "GdNn2p7Slb1P"
      },
      "execution_count": null,
      "outputs": []
    },
    {
      "cell_type": "markdown",
      "source": [
        "##Heat Maps"
      ],
      "metadata": {
        "id": "jZhxpQcL0ETl"
      }
    },
    {
      "cell_type": "code",
      "source": [
        "#Fastball Heatmap for Individual Player\n",
        "\n",
        "import seaborn as sns\n",
        "import matplotlib.pyplot as plt\n",
        "\n",
        "def heat_map_fastball(name, pitcher_handedness):\n",
        "  graph_columns_fastball = [\"playername\",\"events\",\"zone\",\"p_throws\",\"type_of_pitch\"] #Narrow data down to columns we will use for graph\n",
        "  graph_df_fastball = our_df[graph_columns_fastball] #Set new dataframe with only the three categories above\n",
        "  graph_df_fastball = graph_df_fastball[graph_df_fastball['playername'] == name]\n",
        "  graph_df_fastball = graph_df_fastball[graph_df_fastball['p_throws'] == pitcher_handedness]\n",
        "  graph_df_fastball = graph_df_fastball[graph_df_fastball[\"type_of_pitch\"] == \"fastball\"]\n",
        "\n",
        "  graph_df_fastball.groupby('events').zone.value_counts() #Group events and categorize by zone\n",
        "\n",
        "  zone_events_fastball = (graph_df_fastball #Set variable for heatmap and create grid format\n",
        "    .groupby('events')\n",
        "    .zone\n",
        "    .value_counts()\n",
        "    .unstack()\n",
        "    .fillna(0)\n",
        "    )\n",
        "\n",
        "  fig, ax = plt.subplots()\n",
        "  plt.title(\"Player Heatmap: Fastballs\")\n",
        "  ax.set_ylim(1, 5)\n",
        "  sns.heatmap(zone_events_fastball, cmap=\"Blues\") "
      ],
      "metadata": {
        "id": "zaAr4l1Bd99E"
      },
      "execution_count": null,
      "outputs": []
    },
    {
      "cell_type": "code",
      "source": [
        "#Offspeed Heatmap for Individual Player\n",
        "\n",
        "def heat_map_offspeed(name, pitcher_handedness):\n",
        "  graph_columns_df_offspeed = [\"playername\",\"events\",\"zone\",\"p_throws\",\"type_of_pitch\"] #Narrow data down to columns we will use for graph\n",
        "  graph_df_offspeed = our_df[graph_columns_df_offspeed] #Set new dataframe with only the three categories above\n",
        "  graph_df_offspeed = graph_df_offspeed[graph_df_offspeed['playername'] == name]\n",
        "  graph_df_offspeed = graph_df_offspeed[graph_df_offspeed[\"type_of_pitch\"] == \"offspeed\"]\n",
        "  graph_df_offspeed = graph_df_offspeed[graph_df_offspeed['p_throws'] == pitcher_handedness]\n",
        "\n",
        "  graph_df_offspeed.groupby('events').zone.value_counts() #Group events and categorize by zone\n",
        "\n",
        "  zone_events_offspeed = (graph_df_offspeed #Set variable for heatmap and create grid format\n",
        "   .groupby('events')\n",
        "   .zone\n",
        "   .value_counts()\n",
        "   .unstack()\n",
        "   .fillna(0)\n",
        "   )\n",
        "\n",
        "  fig, ax = plt.subplots()\n",
        "  plt.title(\"Player Heatmap: Offspeed\")\n",
        "  ax.set_ylim(1, 5)\n",
        "  sns.heatmap(zone_events_offspeed, cmap=\"Blues\")"
      ],
      "metadata": {
        "id": "PbUpuXhtTObQ"
      },
      "execution_count": null,
      "outputs": []
    },
    {
      "cell_type": "markdown",
      "source": [
        "##Final Product"
      ],
      "metadata": {
        "id": "lC5PCfDkmocp"
      }
    },
    {
      "cell_type": "code",
      "source": [
        "def baseball_analysis(name, pitcher_handedness):\n",
        "  scouting_report(name, pitcher_handedness)\n",
        "  charts_fastball(name, pitcher_handedness)\n",
        "  heat_map_fastball(name, pitcher_handedness)"
      ],
      "metadata": {
        "id": "2wcSMHdom9eU"
      },
      "execution_count": null,
      "outputs": []
    },
    {
      "cell_type": "code",
      "source": [
        "pick_a_player = input(\"Who do you want a scouting report of? \")\n",
        "pitcher_handedness = input(\"Is the opposing pitcher a righty or a lefty? Enter 'R' or 'L': \")\n",
        "baseball_analysis(pick_a_player, pitcher_handedness)"
      ],
      "metadata": {
        "colab": {
          "base_uri": "https://localhost:8080/",
          "height": 875
        },
        "id": "5TST5vDJq8w_",
        "outputId": "f22ab6f6-b27c-4d23-a7fd-26d98bbf395c"
      },
      "execution_count": null,
      "outputs": [
        {
          "output_type": "stream",
          "name": "stdout",
          "text": [
            "Who do you want a scouting report of? Giancarlo Stanton\n",
            "Is the opposing pitcher a righty or a lefty? Enter 'R' or 'L': L\n",
            "This is the scouting report for Giancarlo Stanton.\n",
            "\n",
            "Here is some relevant information about how Giancarlo Stanton fares against left-handed pitchers.\n",
            "\n",
            "Giancarlo Stanton hits fastballs for doubles against left-handed pitchers 2% of the time, while the league hits them 6% of the time\n",
            "Giancarlo Stanton hits fastballs for home runs against left-handed pitchers 16% of the time, while the league hits them 5% of the time\n",
            "Giancarlo Stanton hits fastballs for outs against left-handed pitchers 60% of the time, while the league hits them 66% of the time\n",
            "\n",
            "Giancarlo Stanton hits offspeed pitches for singles against left-handed pitchers 27% of the time, while the league hits them 20% of the time\n",
            "Giancarlo Stanton hits offspeed pitches for doubles against left-handed pitchers 3% of the time, while the league hits them 6% of the time\n",
            "Giancarlo Stanton hits offspeed pitches for outs against left-handed pitchers 63% of the time, while the league hits them 69% of the time\n",
            "\n"
          ]
        },
        {
          "output_type": "display_data",
          "data": {
            "text/plain": [
              "<Figure size 432x288 with 1 Axes>"
            ],
            "image/png": "[encoded data removed]"
          },
          "metadata": {}
        },
        {
          "output_type": "display_data",
          "data": {
            "text/plain": [
              "<Figure size 432x288 with 2 Axes>"
            ],
            "image/png": "[encoded data removed]"
          },
          "metadata": {
            "needs_background": "light"
          }
        }
      ]
    },
    {
      "cell_type": "code",
      "source": [
        "answer_to_question = input(\"Would you like to see offspeed data for \" + pick_a_player + \"? Input yes or no: \")\n",
        "if answer_to_question.lower() == \"yes\":\n",
        "  charts_offspeed(pick_a_player, pitcher_handedness)\n",
        "  heat_map_offspeed(pick_a_player, pitcher_handedness)"
      ],
      "metadata": {
        "colab": {
          "base_uri": "https://localhost:8080/",
          "height": 649
        },
        "id": "sJLC_OO6q3XL",
        "outputId": "895e2625-902e-4e13-f2fe-ba5bce58c064"
      },
      "execution_count": null,
      "outputs": [
        {
          "name": "stdout",
          "output_type": "stream",
          "text": [
            "Would you like to see offspeed data for Giancarlo Stanton? Input yes or no: yes\n"
          ]
        },
        {
          "output_type": "display_data",
          "data": {
            "text/plain": [
              "<Figure size 432x288 with 1 Axes>"
            ],
            "image/png": "[encoded data removed]"
          },
          "metadata": {}
        },
        {
          "output_type": "display_data",
          "data": {
            "text/plain": [
              "<Figure size 432x288 with 2 Axes>"
            ],
            "image/png": "[encoded data removed]"
          },
          "metadata": {
            "needs_background": "light"
          }
        }
      ]
    },
    {
      "cell_type": "markdown",
      "source": [
        "##Future Ideas"
      ],
      "metadata": {
        "id": "wYsAUvcImqfS"
      }
    },
    {
      "cell_type": "code",
      "source": [
        "#### FUTURE \n",
        "#block of code to convert player names from \"Judge, Aaron\" to \"Aaron Judge\"\n",
        "mydata[\"firstname\"] = mydata.player_name.str.extract(r'\\b(\\w+)$',expand = True)  #using \"regular expressions\"\n",
        "mydata[\"lastname\"] = mydata.player_name.str.extract(r'\\b(\\w+)*', expand=True)   #using \"regular expressions\"\n",
        "mydata[\"playername\"] = mydata[\"firstname\"] + \" \" + mydata[\"lastname\"]\n",
        "\n",
        "\n",
        "###Thomas \n",
        "mydata[\"pitcher_hand\"] = mydata[\"p_throws\"]"
      ],
      "metadata": {
        "id": "YZgi8RINIjpX"
      },
      "execution_count": null,
      "outputs": []
    },
    {
      "cell_type": "code",
      "source": [
        "###Thomas continued\n",
        "\n",
        "\n",
        "fastball_field_out_l = MLB_fastball_df.loc[MLB_fastball_df['events'] == 'field_out', 'p_throws'].value_counts()['L'].sum()\n",
        "fastball_field_out_r = MLB_fastball_df.loc[MLB_fastball_df['events'] == 'field_out', 'p_throws'].value_counts()['R'].sum()\n",
        "\n",
        "fastball_single_l = MLB_fastball_df.loc[MLB_fastball_df['events'] == 'single', 'p_throws'].value_counts()['L'].sum()\n",
        "fastball_single_r = MLB_fastball_df.loc[MLB_fastball_df['events'] == 'single', 'p_throws'].value_counts()['R'].sum()\n",
        "\n",
        "fastball_double_l = MLB_fastball_df.loc[MLB_fastball_df['events'] == 'double', 'p_throws'].value_counts()['L'].sum()\n",
        "fastball_double_r = MLB_fastball_df.loc[MLB_fastball_df['events'] == 'double', 'p_throws'].value_counts()['R'].sum()\n",
        "\n",
        "fastball_triple_l = MLB_fastball_df.loc[MLB_fastball_df['events'] == 'triple', 'p_throws'].value_counts()['L'].sum()\n",
        "fastball_triple_r = MLB_fastball_df.loc[MLB_fastball_df['events'] == 'triple', 'p_throws'].value_counts()['R'].sum()\n",
        "\n",
        "fastball_home_run_l = MLB_fastball_df.loc[MLB_fastball_df['events'] == 'home_run', 'p_throws'].value_counts()['L'].sum()\n",
        "fastball_home_run_r = MLB_fastball_df.loc[MLB_fastball_df['events'] == 'home_run', 'p_throws'].value_counts()['R'].sum()\n",
        "\n",
        "\n",
        "\n",
        "league_all_fb_l = MLB_fastball_df.loc[MLB_fastball_df['events'] != '', 'p_throws'].value_counts()['L'].sum()\n",
        "league_all_fb_r = MLB_fastball_df.loc[MLB_fastball_df['events'] != '', 'p_throws'].value_counts()['R'].sum()\n",
        "\n",
        "\n"
      ],
      "metadata": {
        "id": "qGUqfqNGIF5h"
      },
      "execution_count": null,
      "outputs": []
    },
    {
      "cell_type": "code",
      "source": [
        "###thomas continued\n",
        "\n",
        "league_fieldout_percentage_fb_l = fastball_field_out_l / league_all_fb_l\n",
        "league_fieldout_percentage_fb_r = fastball_field_out_r / league_all_fb_r\n",
        "print(league_fieldout_percentage_fb_l)\n",
        "print(league_fieldout_percentage_fb_r)\n",
        "\n",
        "league_single_percentage_fb_l = fastball_single_l / league_all_fb_l\n",
        "league_single_percentage_fb_r = fastball_single_r / league_all_fb_r\n",
        "print(league_single_percentage_fb_l)\n",
        "print(league_single_percentage_fb_r)\n",
        "\n",
        "league_double_percentage_fb_l = fastball_double_l / league_all_fb_l\n",
        "league_double_percentage_fb_r = fastball_double_r / league_all_fb_r\n",
        "print(league_double_percentage_fb_l)\n",
        "print(league_double_percentage_fb_r)\n",
        "\n",
        "league_triple_percentage_fb_l = fastball_triple_l / league_all_fb_l\n",
        "league_triple_percentage_fb_r = fastball_triple_r / league_all_fb_r\n",
        "print(\"\")\n",
        "print(league_triple_percentage_fb_l)\n",
        "print(league_triple_percentage_fb_r)\n",
        "\n",
        "league_home_run_percentage_fb_l = fastball_home_run_l / league_all_fb_l\n",
        "league_home_run_percentage_fb_r = fastball_home_run_r / league_all_fb_r\n",
        "print(league_home_run_percentage_fb_l)\n",
        "print(league_home_run_percentage_fb_r)\n",
        "\n",
        "print(\"\")\n",
        "print(\"all league left hand: \" + str(league_all_fb_l))\n",
        "print(\"all league left hand home run: \" + str(fastball_home_run_l))\n",
        "print(\"all league: \" + str(league_all_fb))"
      ],
      "metadata": {
        "id": "BFIGks_6IG3-",
        "colab": {
          "base_uri": "https://localhost:8080/"
        },
        "outputId": "a47db404-b0c5-45c9-ccbd-5fb7c42325d1"
      },
      "execution_count": null,
      "outputs": [
        {
          "output_type": "stream",
          "name": "stdout",
          "text": [
            "0.6626564523090203\n",
            "0.6653432815387774\n",
            "0.2186016400517911\n",
            "0.21126246377803637\n",
            "0.06279671989641779\n",
            "0.06573573368015151\n",
            "\n",
            "0.005233059991368148\n",
            "0.00590959910557419\n",
            "0.05071212775140268\n",
            "0.05174892189746047\n",
            "\n",
            "all league left hand: 18536\n",
            "all league left hand home run: 940\n",
            "all league: 62363\n"
          ]
        }
      ]
    },
    {
      "cell_type": "code",
      "source": [
        "### Thomas\n",
        "def scouting_report(name):\n",
        "  print(\"This is the scouting report for \" + name, end=\".\\n\")\n",
        "  player = mydata[\"playername\"] == name\n",
        "  player_df = mydata[player]\n",
        "\n",
        "  player_bip = player_df[\"description\"] == \"hit_into_play\"  ##bip stands for ball in play\n",
        "  player_bip_df = player_df[player_bip]\n",
        "\n",
        "  player_fastballs = player_bip_df[\"type_of_pitch\"] == \"fastball\"\n",
        "  player_fastballs_df = player_bip_df[player_fastballs]\n",
        "\n",
        "  player_offspeed = player_bip_df[\"type_of_pitch\"] == \"offspeed\"\n",
        "  player_offspeed_df = player_bip_df[player_offspeed]\n",
        "\n",
        "\n",
        "\n",
        "  player_fieldout_fb = (player_fastballs_df[\"events\"].values=='field_out').sum()\n",
        "  player_single_fb = (player_fastballs_df[\"events\"].values=='single').sum()\n",
        "  player_double_fb = (player_fastballs_df[\"events\"].values=='double').sum()\n",
        "  player_triple_fb = (player_fastballs_df[\"events\"].values=='triple').sum()\n",
        "  player_homerun_fb = (player_fastballs_df[\"events\"].values=='home_run').sum()\n",
        "  player_all_fb = (player_fastballs_df[\"events\"].values!='').sum()\n",
        "\n",
        "\n",
        "  ###Thomas\n",
        "  ### try to pull events that fulfill the request. If it does not work, do the exept --> convert to 0\n",
        "\n",
        "  \n",
        "  try: player_all_fb_l = player_fastballs_df.loc[player_fastballs_df['events'] != '', 'p_throws'].value_counts()['L'].sum() \n",
        "  except: player_all_fb_l = 0\n",
        "  try: player_all_fb_r = player_fastballs_df.loc[player_fastballs_df['events'] != '', 'p_throws'].value_counts()['R'].sum() \n",
        "  except: player_all_fb_r = 0\n",
        "\n",
        "  player_fieldout_percentage_fb = player_fieldout_fb / player_all_fb\n",
        "  player_single_percentage_fb = player_single_fb / player_all_fb\n",
        "  player_double_percentage_fb = player_double_fb / player_all_fb\n",
        "  player_triple_percentage_fb = player_triple_fb / player_all_fb\n",
        "  player_homerun_percentage_fb = player_homerun_fb / player_all_fb\n",
        "\n",
        "\n",
        "\n",
        "  try: player_fb_fieldout_l = player_fastballs_df.loc[player_fastballs_df['events'] == 'field_out', 'p_throws'].value_counts()['L'].sum() \n",
        "  except: player_fb_fieldout_l = 0\n",
        "  try: player_fb_fieldout_r = player_fastballs_df.loc[player_fastballs_df['events'] == 'field_out', 'p_throws'].value_counts()['R'].sum()\n",
        "  except: player_fb_fieldout_r = 0\n",
        "  try: player_fb_single_l = player_fastballs_df.loc[player_fastballs_df['events'] == 'single', 'p_throws'].value_counts()['L'].sum()\n",
        "  except: player_fb_single_l = 0\n",
        "  try: player_fb_single_r = player_fastballs_df.loc[player_fastballs_df['events'] == 'single', 'p_throws'].value_counts()['R'].sum()\n",
        "  except: player_fb_single_r = 0\n",
        "  try: player_fb_double_l = player_fastballs_df.loc[player_fastballs_df['events'] == 'double', 'p_throws'].value_counts()['L'].sum()\n",
        "  except: player_fb_double_l = 0\n",
        "  try: player_fb_double_r = player_fastballs_df.loc[player_fastballs_df['events'] == 'double', 'p_throws'].value_counts()['R'].sum()\n",
        "  except: player_fb_double_r = 0\n",
        "  try: player_fb_triple_l = player_fastballs_df.loc[player_fastballs_df['events'] == 'triple', 'p_throws'].value_counts()['L'].sum()\n",
        "  except: player_fb_triple_l = 0\n",
        "  try: player_fb_triple_r = player_fastballs_df.loc[player_fastballs_df['events'] == 'triple', 'p_throws'].value_counts()['R'].sum()\n",
        "  except: player_fb_triple_r = 0\n",
        "  try: player_fb_home_run_l = player_fastballs_df.loc[player_fastballs_df['events'] == 'field_out', 'p_throws'].value_counts()['L'].sum()\n",
        "  except: player_fb_home_run_l = 0\n",
        "  try: player_fb_home_run_r = player_fastballs_df.loc[player_fastballs_df['events'] == 'field_out', 'p_throws'].value_counts()['R'].sum()\n",
        "  except: player_fb_home_run_r = 0\n",
        "\n",
        "\n",
        "  player_fieldout_offspeed = (player_offspeed_df[\"events\"].values=='field_out').sum()\n",
        "  player_single_offspeed = (player_offspeed_df[\"events\"].values=='single').sum()\n",
        "  player_double_offspeed = (player_offspeed_df[\"events\"].values=='double').sum()\n",
        "  player_triple_offspeed = (player_offspeed_df[\"events\"].values=='triple').sum()\n",
        "  player_homerun_offspeed = (player_offspeed_df[\"events\"].values=='home_run').sum()\n",
        "  player_all_offspeed = (player_offspeed_df[\"events\"].values!='').sum()\n",
        "\n",
        "  try: player_all_of_l = player_offspeed_df.loc[player_offspeed_df['events'] != '', 'p_throws'].value_counts()['L'].sum() \n",
        "  except: player_all_of_l = 0\n",
        "  try: player_all_of_r = player_offspeed_df.loc[player_offspeed_df['events'] != '', 'p_throws'].value_counts()['R'].sum() \n",
        "  except: player_all_of_r = 0\n",
        "\n",
        "  player_fieldout_percentage_offspeed = player_fieldout_offspeed / player_all_offspeed\n",
        "  player_single_percentage_offspeed = player_single_offspeed / player_all_offspeed\n",
        "  player_double_percentage_offspeed = player_double_offspeed / player_all_offspeed\n",
        "  player_triple_percentage_offspeed = player_triple_offspeed / player_all_offspeed\n",
        "  player_homerun_percentage_offspeed = player_homerun_offspeed / player_all_offspeed\n",
        "\n",
        "\n",
        "  try: player_of_fieldout_l = player_offspeed_df.loc[player_offspeed_df['events'] == 'field_out', 'p_throws'].value_counts()['L'].sum() \n",
        "  except: player_of_fieldout_l = 0\n",
        "  try: player_of_fieldout_r = player_offspeed_df.loc[player_offspeed_df['events'] == 'field_out', 'p_throws'].value_counts()['R'].sum()\n",
        "  except: player_of_fieldout_r = 0\n",
        "  try: player_of_single_l = player_offspeed_df.loc[player_offspeed_df['events'] == 'single', 'p_throws'].value_counts()['L'].sum()\n",
        "  except: player_of_single_l = 0\n",
        "  try: player_of_single_r = player_offspeed_df.loc[player_offspeed_df['events'] == 'single', 'p_throws'].value_counts()['R'].sum()\n",
        "  except: player_of_single_r = 0\n",
        "  try: player_of_double_l = player_offspeed_df.loc[player_offspeed_df['events'] == 'double', 'p_throws'].value_counts()['L'].sum()\n",
        "  except: player_of_double_l = 0\n",
        "  try: player_of_double_r = player_offspeed_df.loc[player_offspeed_df['events'] == 'double', 'p_throws'].value_counts()['R'].sum()\n",
        "  except: player_of_double_r = 0\n",
        "  try: player_of_triple_l = player_offspeed_df.loc[player_offspeed_df['events'] == 'triple', 'p_throws'].value_counts()['L'].sum()\n",
        "  except: player_of_triple_l = 0\n",
        "  try: player_of_triple_r = player_offspeed_df.loc[player_offspeed_df['events'] == 'triple', 'p_throws'].value_counts()['R'].sum()\n",
        "  except: player_of_triple_r = 0\n",
        "  try: player_of_home_run_l = player_offspeed_df.loc[player_offspeed_df['events'] == 'home_run', 'p_throws'].value_counts()['L'].sum()\n",
        "  except: player_of_home_run_l = 0\n",
        "  try: player_of_home_run_r = player_offspeed_df.loc[player_offspeed_df['events'] == 'home_run', 'p_throws'].value_counts()['R'].sum()\n",
        "  except: player_of_home_run_r = 0\n",
        "\n",
        "\n",
        "\n",
        "# ###\n",
        "#   print(name, \"hits fastballs for singles\", format(player_single_percentage_fb,\".0%\"), \"of the time, while the league hits them\", format(league_single_percentage_fb,\".0%\"), \"of the time\")\n",
        "#   print(name, \"hits fastballs for doubles\", format(player_double_percentage_fb,\".0%\"), \"of the time, while the league hits them\", format(league_double_percentage_fb,\".0%\"), \"of the time\")\n",
        "#   print(name, \"hits fastballs for triples\", format(player_triple_percentage_fb,\".0%\"), \"of the time, while the league hits them\", format(league_triple_percentage_fb,\".0%\"), \"of the time\")\n",
        "#   print(name, \"hits fastballs for home runs\", format(player_homerun_percentage_fb,\".0%\"), \"of the time, while the league hits them\", format(league_homerun_percentage_fb,\".0%\"), \"of the time\")\n",
        "#   print(name, \"hits fastballs for outs\", format(player_fieldout_percentage_fb,\".0%\"), \"of the time, while the league hits them\", format(league_fieldout_percentage_fb,\".0%\"), \"of the time\")\n",
        "#   print(\"\")\n",
        "#   print(name, \"hits offspeed pitches for singles\", format(player_single_percentage_offspeed,\".0%\"), \"of the time, while the league hits them\", format(league_single_percentage_offspeed,\".0%\"), \"of the time\")\n",
        "#   print(name, \"hits offspeed pitches for doubles\", format(player_double_percentage_offspeed,\".0%\"), \"of the time, while the league hits them\", format(league_double_percentage_offspeed,\".0%\"), \"of the time\")\n",
        "#   print(name, \"hits offspeed pitches for triples\", format(player_triple_percentage_offspeed,\".0%\"), \"of the time, while the league hits them\", format(league_triple_percentage_offspeed,\".0%\"), \"of the time\")\n",
        "#   print(name, \"hits offspeed pitches for home runs\", format(player_homerun_percentage_offspeed,\".0%\"), \"of the time, while the league hits them\", format(league_homerun_percentage_offspeed,\".0%\"), \"of the time\")\n",
        "#   print(name, \"hits offspeed pitches for outs\", format(player_fieldout_percentage_offspeed,\".0%\"), \"of the time, while the league hits them\", format(league_fieldout_percentage_offspeed,\".0%\"), \"of the time\")\n",
        "# ### \n",
        "\n",
        "  \n",
        "  print(name, \"hits fastballs for singles\", format(player_fb_single_l / player_all_fb_l, \".0%\"), \"of the time against left hand pitchers, while the league hits them\", format(league_single_percentage_fb_l, \".0%\"), \"of the time\")\n",
        "  print(name, \"hits fastballs for singles\", format(player_fb_single_r / player_all_fb_r, \".0%\"), \"of the time against right hand pitchers, while the league hits them\", format(league_single_percentage_fb_r, \".0%\"), \"of the time\")\n",
        "  print(name, \"hits fastballs for doubles\", format(player_fb_double_l / player_all_fb_l, \".0%\"), \"of the time against left hand pitchers, while the league hits them\", format(league_double_percentage_fb_l, \".0%\"), \"of the time\")\n",
        "  print(name, \"hits fastballs for doubles\", format(player_fb_double_r / player_all_fb_r, \".0%\"), \"of the time against right hand pitchers, while the league hits them\", format(league_double_percentage_fb_r, \".0%\"), \"of the time\")\n",
        "  print(name, \"hits fastballs for triples\", format(player_fb_triple_l / player_all_fb_l, \".0%\"), \"of the time against left hand pitchers, while the league hits them\", format(league_triple_percentage_fb_l, \".0%\"), \"of the time\")\n",
        "  print(name, \"hits fastballs for triples\", format(player_fb_triple_r / player_all_fb_r, \".0%\"), \"of the time against right hand pitchers, while the league hits them\", format(league_triple_percentage_fb_r, \".0%\"), \"of the time\")\n",
        "  print(name, \"hits fastballs for home runs\", format(player_fb_home_run_l / player_all_fb_l, \".0%\"), \"of the time against left hand pitchers, while the league hits them\", format(league_home_run_percentage_fb_l, \".0%\"), \"of the time\")\n",
        "  print(name, \"hits fastballs for home runs\", format(player_fb_home_run_r / player_all_fb_r, \".0%\"), \"of the time against right hand pitchers, while the league hits them\", format(league_home_run_percentage_fb_r, \".0%\"), \"of the time\")\n",
        "  print(name, \"hits fastballs for outs\", format(player_fb_fieldout_l / player_all_fb_l, \".0%\"), \"of the time against left hand pitchers, while the league hits them\", format(league_fieldout_percentage_fb_l, \".0%\"), \"of the time\")\n",
        "  print(name, \"hits fastballs for outs\", format(player_fb_fieldout_r / player_all_fb_r, \".0%\"), \"of the time against right hand pitchers, while the league hits them\", format(league_fieldout_percentage_fb_r, \".0%\"), \"of the time\")\n",
        "  \n",
        "\n",
        "  print(\"\")\n",
        "  print(name, \"hits offspeed for singles\", format(player_of_single_l / player_all_of_l, \".0%\"), \"of the time against left hand pitchers, while the league hits them\", format(league_single_percentage_of_l, \".0%\"), \"of the time\")\n",
        "  print(name, \"hits offspeed for singles\", format(player_of_single_r / player_all_of_r, \".0%\"), \"of the time against right hand pitchers, while the league hits them\", format(league_single_percentage_of_r, \".0%\"), \"of the time\")\n",
        "  print(name, \"hits offspeed for doubles\", format(player_of_double_l / player_all_of_l, \".0%\"), \"of the time against left hand pitchers, while the league hits them\", format(league_double_percentage_of_l, \".0%\"), \"of the time\")\n",
        "  print(name, \"hits offspeed for doubles\", format(player_of_double_r / player_all_of_r, \".0%\"), \"of the time against right hand pitchers, while the league hits them\", format(league_double_percentage_of_r, \".0%\"), \"of the time\")\n",
        "  print(name, \"hits offspeed for triples\", format(player_of_triple_l / player_all_of_l, \".0%\"), \"of the time against left hand pitchers, while the league hits them\", format(league_triple_percentage_of_l, \".0%\"), \"of the time\")\n",
        "  print(name, \"hits offspeed for triples\", format(player_of_triple_r / player_all_of_r, \".0%\"), \"of the time against right hand pitchers, while the league hits them\", format(league_triple_percentage_of_r, \".0%\"), \"of the time\")\n",
        "  print(name, \"hits offspeed for home runs\", format(player_of_home_run_l / player_all_of_l, \".0%\"), \"of the time against left hand pitchers, while the league hits them\", format(league_home_run_percentage_of_l, \".0%\"), \"of the time\")\n",
        "  print(name, \"hits offspeed for home runs\", format(player_of_home_run_r / player_all_of_r, \".0%\"), \"of the time against right hand pitchers, while the league hits them\", format(league_home_run_percentage_of_r, \".0%\"), \"of the time\")\n",
        "  print(name, \"hits offspeed for outs\", format(player_of_fieldout_l / player_all_of_l, \".0%\"), \"of the time against left hand pitchers, while the league hits them\", format(league_fieldout_percentage_of_l, \".0%\"), \"of the time\")\n",
        "  print(name, \"hits offspeed for outs\", format(player_of_fieldout_r / player_all_of_r, \".0%\"), \"of the time against right hand pitchers, while the league hits them\", format(league_fieldout_percentage_of_r, \".0%\"), \"of the time\")\n",
        "  \n",
        "  \n"
      ],
      "metadata": {
        "id": "yba3Y0DoIWyc"
      },
      "execution_count": null,
      "outputs": []
    },
    {
      "cell_type": "code",
      "source": [
        ""
      ],
      "metadata": {
        "id": "rjJo634NWcWv"
      },
      "execution_count": null,
      "outputs": []
    }
  ]
}